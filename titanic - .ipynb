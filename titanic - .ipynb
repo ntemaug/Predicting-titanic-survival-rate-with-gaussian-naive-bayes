{
 "cells": [
  {
   "cell_type": "code",
   "execution_count": 92,
   "metadata": {
    "collapsed": true
   },
   "outputs": [],
   "source": [
    "import pandas as pd\n",
    "import matplotlib.pyplot as plt\n",
    "from sklearn.naive_bayes import GaussianNB\n",
    "import numpy as np\n",
    "from sklearn.metrics import mean_squared_error\n",
    "% matplotlib inline"
   ]
  },
  {
   "cell_type": "code",
   "execution_count": 93,
   "metadata": {
    "collapsed": true
   },
   "outputs": [],
   "source": [
    "dataframe = pd.read_csv('titanic.csv')"
   ]
  },
  {
   "cell_type": "code",
   "execution_count": 94,
   "metadata": {},
   "outputs": [
    {
     "data": {
      "text/html": [
       "<div>\n",
       "<table border=\"1\" class=\"dataframe\">\n",
       "  <thead>\n",
       "    <tr style=\"text-align: right;\">\n",
       "      <th></th>\n",
       "      <th>Survived</th>\n",
       "      <th>Pclass</th>\n",
       "      <th>Name</th>\n",
       "      <th>Sex</th>\n",
       "      <th>Age</th>\n",
       "      <th>Siblings/Spouses Aboard</th>\n",
       "      <th>Parents/Children Aboard</th>\n",
       "      <th>Fare</th>\n",
       "    </tr>\n",
       "  </thead>\n",
       "  <tbody>\n",
       "    <tr>\n",
       "      <th>0</th>\n",
       "      <td>0</td>\n",
       "      <td>3</td>\n",
       "      <td>Mr. Owen Harris Braund</td>\n",
       "      <td>1</td>\n",
       "      <td>22.0</td>\n",
       "      <td>1</td>\n",
       "      <td>0</td>\n",
       "      <td>7.2500</td>\n",
       "    </tr>\n",
       "    <tr>\n",
       "      <th>1</th>\n",
       "      <td>1</td>\n",
       "      <td>1</td>\n",
       "      <td>Mrs. John Bradley (Florence Briggs Thayer) Cum...</td>\n",
       "      <td>0</td>\n",
       "      <td>38.0</td>\n",
       "      <td>1</td>\n",
       "      <td>0</td>\n",
       "      <td>71.2833</td>\n",
       "    </tr>\n",
       "  </tbody>\n",
       "</table>\n",
       "</div>"
      ],
      "text/plain": [
       "   Survived  Pclass                                               Name  Sex  \\\n",
       "0         0       3                             Mr. Owen Harris Braund    1   \n",
       "1         1       1  Mrs. John Bradley (Florence Briggs Thayer) Cum...    0   \n",
       "\n",
       "    Age  Siblings/Spouses Aboard  Parents/Children Aboard     Fare  \n",
       "0  22.0                        1                        0   7.2500  \n",
       "1  38.0                        1                        0  71.2833  "
      ]
     },
     "execution_count": 94,
     "metadata": {},
     "output_type": "execute_result"
    }
   ],
   "source": [
    "dataframe.head(2)"
   ]
  },
  {
   "cell_type": "code",
   "execution_count": 95,
   "metadata": {},
   "outputs": [
    {
     "data": {
      "text/html": [
       "<div>\n",
       "<table border=\"1\" class=\"dataframe\">\n",
       "  <thead>\n",
       "    <tr style=\"text-align: right;\">\n",
       "      <th></th>\n",
       "      <th>Survived</th>\n",
       "      <th>Pclass</th>\n",
       "      <th>Sex</th>\n",
       "      <th>Age</th>\n",
       "      <th>Siblings/Spouses Aboard</th>\n",
       "      <th>Parents/Children Aboard</th>\n",
       "      <th>Fare</th>\n",
       "    </tr>\n",
       "  </thead>\n",
       "  <tbody>\n",
       "    <tr>\n",
       "      <th>count</th>\n",
       "      <td>887.000000</td>\n",
       "      <td>887.000000</td>\n",
       "      <td>887.000000</td>\n",
       "      <td>887.000000</td>\n",
       "      <td>887.000000</td>\n",
       "      <td>887.000000</td>\n",
       "      <td>887.00000</td>\n",
       "    </tr>\n",
       "    <tr>\n",
       "      <th>mean</th>\n",
       "      <td>0.385569</td>\n",
       "      <td>2.305524</td>\n",
       "      <td>0.645998</td>\n",
       "      <td>29.471443</td>\n",
       "      <td>0.525366</td>\n",
       "      <td>0.383315</td>\n",
       "      <td>32.30542</td>\n",
       "    </tr>\n",
       "    <tr>\n",
       "      <th>std</th>\n",
       "      <td>0.487004</td>\n",
       "      <td>0.836662</td>\n",
       "      <td>0.478480</td>\n",
       "      <td>14.121908</td>\n",
       "      <td>1.104669</td>\n",
       "      <td>0.807466</td>\n",
       "      <td>49.78204</td>\n",
       "    </tr>\n",
       "    <tr>\n",
       "      <th>min</th>\n",
       "      <td>0.000000</td>\n",
       "      <td>1.000000</td>\n",
       "      <td>0.000000</td>\n",
       "      <td>0.420000</td>\n",
       "      <td>0.000000</td>\n",
       "      <td>0.000000</td>\n",
       "      <td>0.00000</td>\n",
       "    </tr>\n",
       "    <tr>\n",
       "      <th>25%</th>\n",
       "      <td>0.000000</td>\n",
       "      <td>2.000000</td>\n",
       "      <td>0.000000</td>\n",
       "      <td>20.250000</td>\n",
       "      <td>0.000000</td>\n",
       "      <td>0.000000</td>\n",
       "      <td>7.92500</td>\n",
       "    </tr>\n",
       "    <tr>\n",
       "      <th>50%</th>\n",
       "      <td>0.000000</td>\n",
       "      <td>3.000000</td>\n",
       "      <td>1.000000</td>\n",
       "      <td>28.000000</td>\n",
       "      <td>0.000000</td>\n",
       "      <td>0.000000</td>\n",
       "      <td>14.45420</td>\n",
       "    </tr>\n",
       "    <tr>\n",
       "      <th>75%</th>\n",
       "      <td>1.000000</td>\n",
       "      <td>3.000000</td>\n",
       "      <td>1.000000</td>\n",
       "      <td>38.000000</td>\n",
       "      <td>1.000000</td>\n",
       "      <td>0.000000</td>\n",
       "      <td>31.13750</td>\n",
       "    </tr>\n",
       "    <tr>\n",
       "      <th>max</th>\n",
       "      <td>1.000000</td>\n",
       "      <td>3.000000</td>\n",
       "      <td>1.000000</td>\n",
       "      <td>80.000000</td>\n",
       "      <td>8.000000</td>\n",
       "      <td>6.000000</td>\n",
       "      <td>512.32920</td>\n",
       "    </tr>\n",
       "  </tbody>\n",
       "</table>\n",
       "</div>"
      ],
      "text/plain": [
       "         Survived      Pclass         Sex         Age  \\\n",
       "count  887.000000  887.000000  887.000000  887.000000   \n",
       "mean     0.385569    2.305524    0.645998   29.471443   \n",
       "std      0.487004    0.836662    0.478480   14.121908   \n",
       "min      0.000000    1.000000    0.000000    0.420000   \n",
       "25%      0.000000    2.000000    0.000000   20.250000   \n",
       "50%      0.000000    3.000000    1.000000   28.000000   \n",
       "75%      1.000000    3.000000    1.000000   38.000000   \n",
       "max      1.000000    3.000000    1.000000   80.000000   \n",
       "\n",
       "       Siblings/Spouses Aboard  Parents/Children Aboard       Fare  \n",
       "count               887.000000               887.000000  887.00000  \n",
       "mean                  0.525366                 0.383315   32.30542  \n",
       "std                   1.104669                 0.807466   49.78204  \n",
       "min                   0.000000                 0.000000    0.00000  \n",
       "25%                   0.000000                 0.000000    7.92500  \n",
       "50%                   0.000000                 0.000000   14.45420  \n",
       "75%                   1.000000                 0.000000   31.13750  \n",
       "max                   8.000000                 6.000000  512.32920  "
      ]
     },
     "execution_count": 95,
     "metadata": {},
     "output_type": "execute_result"
    }
   ],
   "source": [
    "dataframe.describe()"
   ]
  },
  {
   "cell_type": "code",
   "execution_count": 96,
   "metadata": {},
   "outputs": [
    {
     "data": {
      "text/plain": [
       "[<matplotlib.lines.Line2D at 0x23a2c3c0cf8>]"
      ]
     },
     "execution_count": 96,
     "metadata": {},
     "output_type": "execute_result"
    },
    {
     "data": {
      "image/png": "[encoded data removed]",
      "text/plain": [
       "<matplotlib.figure.Figure at 0x23a2c8c28d0>"
      ]
     },
     "metadata": {},
     "output_type": "display_data"
    }
   ],
   "source": [
    "age = dataframe['Age']\n",
    "fare = dataframe['Fare']\n",
    "plt.plot(age,fare,'o')"
   ]
  },
  {
   "cell_type": "code",
   "execution_count": 97,
   "metadata": {},
   "outputs": [
    {
     "data": {
      "text/plain": [
       "Index(['Survived', 'Pclass', 'Name', 'Sex', 'Age', 'Siblings/Spouses Aboard',\n",
       "       'Parents/Children Aboard', 'Fare'],\n",
       "      dtype='object')"
      ]
     },
     "execution_count": 97,
     "metadata": {},
     "output_type": "execute_result"
    }
   ],
   "source": [
    "dataframe.columns"
   ]
  },
  {
   "cell_type": "code",
   "execution_count": 98,
   "metadata": {},
   "outputs": [
    {
     "data": {
      "text/plain": [
       "<matplotlib.collections.PathCollection at 0x23a2cbcb940>"
      ]
     },
     "execution_count": 98,
     "metadata": {},
     "output_type": "execute_result"
    },
    {
     "data": {
      "image/png": "[encoded data removed]",
      "text/plain": [
       "<matplotlib.figure.Figure at 0x23a2aa1b438>"
      ]
     },
     "metadata": {},
     "output_type": "display_data"
    }
   ],
   "source": [
    "# to distinguish in the plot who survived and who did not let us assign different colors\n",
    "\n",
    "age = dataframe['Age']\n",
    "fare = dataframe['Fare']\n",
    "survived = dataframe['Survived']\n",
    "#plt.plot(age,fare,'o')\n",
    "colors = []\n",
    "for item in survived:\n",
    "    if item > 0:\n",
    "        colors.append('green')\n",
    "    else:\n",
    "        colors.append('red')\n",
    "        \n",
    "plt.scatter(age,fare, color =colors) #figsize = (20,10))"
   ]
  },
  {
   "cell_type": "markdown",
   "metadata": {},
   "source": [
    "# Building a model"
   ]
  },
  {
   "cell_type": "code",
   "execution_count": 99,
   "metadata": {},
   "outputs": [
    {
     "data": {
      "text/plain": [
       "Index(['Survived', 'Pclass', 'Name', 'Sex', 'Age', 'Siblings/Spouses Aboard',\n",
       "       'Parents/Children Aboard', 'Fare'],\n",
       "      dtype='object')"
      ]
     },
     "execution_count": 99,
     "metadata": {},
     "output_type": "execute_result"
    }
   ],
   "source": [
    "dataframe.columns"
   ]
  },
  {
   "cell_type": "code",
   "execution_count": 100,
   "metadata": {},
   "outputs": [],
   "source": [
    "dataframe = dataframe.drop(['Name'], axis = 1)"
   ]
  },
  {
   "cell_type": "code",
   "execution_count": 101,
   "metadata": {
    "collapsed": true
   },
   "outputs": [],
   "source": [
    "features = dataframe.iloc[:,1:]\n",
    "target = dataframe.iloc[:,0]"
   ]
  },
  {
   "cell_type": "code",
   "execution_count": 102,
   "metadata": {
    "collapsed": true
   },
   "outputs": [],
   "source": [
    "#features_train, target_train = features[0:710],target[0:710]\n",
    "#features_test,target_test = features[710:], target[710:]"
   ]
  },
  {
   "cell_type": "code",
   "execution_count": 103,
   "metadata": {},
   "outputs": [],
   "source": [
    "from sklearn.model_selection import train_test_split\n",
    "features_train, features_test, target_train, target_test = train_test_split(features, target, test_size=0.3, random_state=42)"
   ]
  },
  {
   "cell_type": "code",
   "execution_count": 104,
   "metadata": {},
   "outputs": [],
   "source": [
    "model = GaussianNB()\n",
    "model_fit = model.fit(features_train, target_train)"
   ]
  },
  {
   "cell_type": "code",
   "execution_count": 105,
   "metadata": {},
   "outputs": [],
   "source": [
    "predictions = model.predict(features_test)"
   ]
  },
  {
   "cell_type": "code",
   "execution_count": 106,
   "metadata": {},
   "outputs": [
    {
     "data": {
      "text/plain": [
       "array([0, 0, 0, 0, 0, 1, 0, 0, 1, 1, 0, 1, 1, 0, 1, 0, 0, 1, 0, 0, 0, 0, 1,\n",
       "       0, 0, 0, 0, 0, 0, 0, 1, 1, 1, 1, 0, 0, 0, 0, 1, 1, 0, 0, 1, 0, 0, 0,\n",
       "       0, 0, 0, 0, 0, 0, 0, 0, 0, 0, 0, 0, 1, 0, 0, 1, 0, 1, 0, 0, 0, 1, 0,\n",
       "       0, 0, 1, 0, 0, 0, 0, 1, 1, 1, 0, 0, 0, 0, 0, 1, 1, 1, 0, 0, 0, 0, 0,\n",
       "       0, 0, 0, 1, 0, 0, 1, 1, 1, 0, 0, 1, 0, 0, 1, 0, 0, 1, 1, 0, 0, 1, 0,\n",
       "       0, 1, 1, 0, 0, 0, 0, 0, 0, 1, 0, 0, 1, 1, 1, 0, 0, 0, 0, 0, 0, 0, 0,\n",
       "       0, 0, 1, 0, 0, 0, 0, 1, 0, 0, 0, 0, 0, 0, 0, 0, 0, 1, 0, 1, 1, 0, 0,\n",
       "       0, 0, 0, 0, 1, 0, 1, 0, 0, 1, 1, 0, 0, 0, 1, 1, 0, 0, 0, 0, 1, 1, 0,\n",
       "       1, 0, 0, 0, 1, 1, 0, 1, 0, 0, 0, 0, 1, 1, 1, 0, 1, 1, 0, 0, 0, 0, 0,\n",
       "       0, 1, 0, 1, 0, 0, 1, 1, 0, 1, 0, 0, 0, 0, 0, 0, 0, 0, 1, 0, 0, 0, 0,\n",
       "       0, 0, 1, 1, 1, 0, 1, 1, 0, 0, 1, 0, 1, 1, 0, 0, 0, 0, 1, 1, 0, 0, 1,\n",
       "       0, 0, 0, 1, 1, 0, 1, 0, 0, 1, 0, 0, 0, 0], dtype=int64)"
      ]
     },
     "execution_count": 106,
     "metadata": {},
     "output_type": "execute_result"
    }
   ],
   "source": [
    "predictions"
   ]
  },
  {
   "cell_type": "code",
   "execution_count": 108,
   "metadata": {},
   "outputs": [
    {
     "name": "stdout",
     "output_type": "stream",
     "text": [
      "predicted was: 0 : real value was : 1\n",
      "predicted was: 0 : real value was : 0\n",
      "predicted was: 0 : real value was : 0\n",
      "predicted was: 0 : real value was : 1\n",
      "predicted was: 0 : real value was : 0\n",
      "predicted was: 1 : real value was : 1\n",
      "predicted was: 0 : real value was : 0\n",
      "predicted was: 0 : real value was : 0\n",
      "predicted was: 1 : real value was : 1\n",
      "predicted was: 1 : real value was : 1\n",
      "predicted was: 0 : real value was : 1\n",
      "predicted was: 1 : real value was : 1\n",
      "predicted was: 1 : real value was : 1\n",
      "predicted was: 0 : real value was : 0\n",
      "predicted was: 1 : real value was : 1\n",
      "predicted was: 0 : real value was : 0\n",
      "predicted was: 0 : real value was : 0\n",
      "predicted was: 1 : real value was : 1\n",
      "predicted was: 0 : real value was : 0\n",
      "predicted was: 0 : real value was : 0\n",
      "predicted was: 0 : real value was : 0\n",
      "predicted was: 0 : real value was : 1\n",
      "predicted was: 1 : real value was : 0\n",
      "predicted was: 0 : real value was : 1\n",
      "predicted was: 0 : real value was : 0\n",
      "predicted was: 0 : real value was : 0\n",
      "predicted was: 0 : real value was : 0\n",
      "predicted was: 0 : real value was : 0\n",
      "predicted was: 0 : real value was : 0\n",
      "predicted was: 0 : real value was : 1\n",
      "predicted was: 1 : real value was : 0\n",
      "predicted was: 1 : real value was : 0\n",
      "predicted was: 1 : real value was : 1\n",
      "predicted was: 1 : real value was : 1\n",
      "predicted was: 0 : real value was : 1\n",
      "predicted was: 0 : real value was : 0\n",
      "predicted was: 0 : real value was : 0\n",
      "predicted was: 0 : real value was : 1\n",
      "predicted was: 1 : real value was : 0\n",
      "predicted was: 1 : real value was : 0\n",
      "predicted was: 0 : real value was : 1\n",
      "predicted was: 0 : real value was : 0\n",
      "predicted was: 1 : real value was : 1\n",
      "predicted was: 0 : real value was : 0\n",
      "predicted was: 0 : real value was : 0\n",
      "predicted was: 0 : real value was : 1\n",
      "predicted was: 0 : real value was : 0\n",
      "predicted was: 0 : real value was : 0\n",
      "predicted was: 0 : real value was : 0\n",
      "predicted was: 0 : real value was : 0\n",
      "predicted was: 0 : real value was : 0\n",
      "predicted was: 0 : real value was : 1\n",
      "predicted was: 0 : real value was : 0\n",
      "predicted was: 0 : real value was : 0\n",
      "predicted was: 0 : real value was : 1\n",
      "predicted was: 0 : real value was : 0\n",
      "predicted was: 0 : real value was : 1\n",
      "predicted was: 0 : real value was : 1\n",
      "predicted was: 1 : real value was : 0\n",
      "predicted was: 0 : real value was : 1\n",
      "predicted was: 0 : real value was : 0\n",
      "predicted was: 1 : real value was : 1\n",
      "predicted was: 0 : real value was : 1\n",
      "predicted was: 1 : real value was : 1\n",
      "predicted was: 0 : real value was : 1\n",
      "predicted was: 0 : real value was : 0\n",
      "predicted was: 0 : real value was : 0\n",
      "predicted was: 1 : real value was : 1\n",
      "predicted was: 0 : real value was : 0\n",
      "predicted was: 0 : real value was : 0\n",
      "predicted was: 0 : real value was : 0\n",
      "predicted was: 1 : real value was : 1\n",
      "predicted was: 0 : real value was : 0\n",
      "predicted was: 0 : real value was : 0\n",
      "predicted was: 0 : real value was : 0\n",
      "predicted was: 0 : real value was : 1\n",
      "predicted was: 1 : real value was : 1\n",
      "predicted was: 1 : real value was : 0\n",
      "predicted was: 1 : real value was : 0\n",
      "predicted was: 0 : real value was : 0\n",
      "predicted was: 0 : real value was : 0\n",
      "predicted was: 0 : real value was : 0\n",
      "predicted was: 0 : real value was : 0\n",
      "predicted was: 0 : real value was : 0\n",
      "predicted was: 1 : real value was : 1\n",
      "predicted was: 1 : real value was : 1\n",
      "predicted was: 1 : real value was : 0\n",
      "predicted was: 0 : real value was : 0\n",
      "predicted was: 0 : real value was : 1\n",
      "predicted was: 0 : real value was : 0\n",
      "predicted was: 0 : real value was : 1\n",
      "predicted was: 0 : real value was : 0\n",
      "predicted was: 0 : real value was : 0\n",
      "predicted was: 0 : real value was : 1\n",
      "predicted was: 0 : real value was : 0\n",
      "predicted was: 1 : real value was : 0\n",
      "predicted was: 0 : real value was : 0\n",
      "predicted was: 0 : real value was : 0\n",
      "predicted was: 1 : real value was : 1\n",
      "predicted was: 1 : real value was : 1\n",
      "predicted was: 1 : real value was : 0\n",
      "predicted was: 0 : real value was : 1\n",
      "predicted was: 0 : real value was : 0\n",
      "predicted was: 1 : real value was : 1\n",
      "predicted was: 0 : real value was : 0\n",
      "predicted was: 0 : real value was : 0\n",
      "predicted was: 1 : real value was : 0\n",
      "predicted was: 0 : real value was : 0\n",
      "predicted was: 0 : real value was : 0\n",
      "predicted was: 1 : real value was : 1\n",
      "predicted was: 1 : real value was : 1\n",
      "predicted was: 0 : real value was : 0\n",
      "predicted was: 0 : real value was : 0\n",
      "predicted was: 1 : real value was : 0\n",
      "predicted was: 0 : real value was : 0\n",
      "predicted was: 0 : real value was : 0\n",
      "predicted was: 1 : real value was : 1\n",
      "predicted was: 1 : real value was : 1\n",
      "predicted was: 0 : real value was : 0\n",
      "predicted was: 0 : real value was : 0\n",
      "predicted was: 0 : real value was : 0\n",
      "predicted was: 0 : real value was : 1\n",
      "predicted was: 0 : real value was : 0\n",
      "predicted was: 0 : real value was : 0\n",
      "predicted was: 1 : real value was : 0\n",
      "predicted was: 0 : real value was : 0\n",
      "predicted was: 0 : real value was : 1\n",
      "predicted was: 1 : real value was : 0\n",
      "predicted was: 1 : real value was : 1\n",
      "predicted was: 1 : real value was : 1\n",
      "predicted was: 0 : real value was : 0\n",
      "predicted was: 0 : real value was : 1\n",
      "predicted was: 0 : real value was : 0\n",
      "predicted was: 0 : real value was : 0\n",
      "predicted was: 0 : real value was : 0\n",
      "predicted was: 0 : real value was : 0\n",
      "predicted was: 0 : real value was : 0\n",
      "predicted was: 0 : real value was : 0\n",
      "predicted was: 0 : real value was : 0\n",
      "predicted was: 0 : real value was : 0\n",
      "predicted was: 1 : real value was : 0\n",
      "predicted was: 0 : real value was : 0\n",
      "predicted was: 0 : real value was : 0\n",
      "predicted was: 0 : real value was : 0\n",
      "predicted was: 0 : real value was : 0\n",
      "predicted was: 1 : real value was : 1\n",
      "predicted was: 0 : real value was : 0\n",
      "predicted was: 0 : real value was : 0\n",
      "predicted was: 0 : real value was : 0\n",
      "predicted was: 0 : real value was : 0\n",
      "predicted was: 0 : real value was : 0\n",
      "predicted was: 0 : real value was : 1\n",
      "predicted was: 0 : real value was : 0\n",
      "predicted was: 0 : real value was : 0\n",
      "predicted was: 0 : real value was : 0\n",
      "predicted was: 1 : real value was : 1\n",
      "predicted was: 0 : real value was : 0\n",
      "predicted was: 1 : real value was : 1\n",
      "predicted was: 1 : real value was : 1\n",
      "predicted was: 0 : real value was : 0\n",
      "predicted was: 0 : real value was : 0\n",
      "predicted was: 0 : real value was : 0\n",
      "predicted was: 0 : real value was : 1\n",
      "predicted was: 0 : real value was : 1\n",
      "predicted was: 0 : real value was : 0\n",
      "predicted was: 1 : real value was : 1\n",
      "predicted was: 0 : real value was : 0\n",
      "predicted was: 1 : real value was : 1\n",
      "predicted was: 0 : real value was : 0\n",
      "predicted was: 0 : real value was : 1\n",
      "predicted was: 1 : real value was : 1\n",
      "predicted was: 1 : real value was : 1\n",
      "predicted was: 0 : real value was : 0\n",
      "predicted was: 0 : real value was : 1\n",
      "predicted was: 0 : real value was : 1\n",
      "predicted was: 1 : real value was : 1\n",
      "predicted was: 1 : real value was : 1\n",
      "predicted was: 0 : real value was : 0\n",
      "predicted was: 0 : real value was : 0\n",
      "predicted was: 0 : real value was : 0\n",
      "predicted was: 0 : real value was : 0\n",
      "predicted was: 1 : real value was : 1\n",
      "predicted was: 1 : real value was : 1\n",
      "predicted was: 0 : real value was : 0\n",
      "predicted was: 1 : real value was : 1\n",
      "predicted was: 0 : real value was : 0\n",
      "predicted was: 0 : real value was : 0\n",
      "predicted was: 0 : real value was : 0\n",
      "predicted was: 1 : real value was : 0\n",
      "predicted was: 1 : real value was : 1\n",
      "predicted was: 0 : real value was : 0\n",
      "predicted was: 1 : real value was : 1\n",
      "predicted was: 0 : real value was : 0\n",
      "predicted was: 0 : real value was : 1\n",
      "predicted was: 0 : real value was : 0\n",
      "predicted was: 0 : real value was : 0\n",
      "predicted was: 1 : real value was : 0\n",
      "predicted was: 1 : real value was : 1\n",
      "predicted was: 1 : real value was : 1\n",
      "predicted was: 0 : real value was : 0\n",
      "predicted was: 1 : real value was : 1\n",
      "predicted was: 1 : real value was : 1\n",
      "predicted was: 0 : real value was : 0\n",
      "predicted was: 0 : real value was : 1\n",
      "predicted was: 0 : real value was : 0\n",
      "predicted was: 0 : real value was : 0\n",
      "predicted was: 0 : real value was : 0\n",
      "predicted was: 0 : real value was : 0\n",
      "predicted was: 1 : real value was : 1\n",
      "predicted was: 0 : real value was : 0\n",
      "predicted was: 1 : real value was : 0\n",
      "predicted was: 0 : real value was : 0\n",
      "predicted was: 0 : real value was : 0\n",
      "predicted was: 1 : real value was : 1\n",
      "predicted was: 1 : real value was : 1\n",
      "predicted was: 0 : real value was : 0\n",
      "predicted was: 1 : real value was : 0\n",
      "predicted was: 0 : real value was : 0\n",
      "predicted was: 0 : real value was : 1\n",
      "predicted was: 0 : real value was : 0\n",
      "predicted was: 0 : real value was : 0\n",
      "predicted was: 0 : real value was : 0\n",
      "predicted was: 0 : real value was : 0\n",
      "predicted was: 0 : real value was : 0\n",
      "predicted was: 0 : real value was : 0\n",
      "predicted was: 1 : real value was : 1\n",
      "predicted was: 0 : real value was : 0\n",
      "predicted was: 0 : real value was : 0\n",
      "predicted was: 0 : real value was : 1\n",
      "predicted was: 0 : real value was : 1\n",
      "predicted was: 0 : real value was : 0\n",
      "predicted was: 0 : real value was : 0\n",
      "predicted was: 1 : real value was : 1\n",
      "predicted was: 1 : real value was : 1\n",
      "predicted was: 1 : real value was : 0\n",
      "predicted was: 0 : real value was : 0\n",
      "predicted was: 1 : real value was : 1\n",
      "predicted was: 1 : real value was : 1\n",
      "predicted was: 0 : real value was : 0\n",
      "predicted was: 0 : real value was : 0\n",
      "predicted was: 1 : real value was : 1\n",
      "predicted was: 0 : real value was : 0\n",
      "predicted was: 1 : real value was : 1\n",
      "predicted was: 1 : real value was : 0\n",
      "predicted was: 0 : real value was : 0\n",
      "predicted was: 0 : real value was : 1\n",
      "predicted was: 0 : real value was : 0\n",
      "predicted was: 0 : real value was : 0\n",
      "predicted was: 1 : real value was : 1\n",
      "predicted was: 1 : real value was : 1\n",
      "predicted was: 0 : real value was : 0\n",
      "predicted was: 0 : real value was : 0\n",
      "predicted was: 1 : real value was : 1\n",
      "predicted was: 0 : real value was : 0\n",
      "predicted was: 0 : real value was : 0\n",
      "predicted was: 0 : real value was : 0\n",
      "predicted was: 1 : real value was : 1\n",
      "predicted was: 1 : real value was : 0\n",
      "predicted was: 0 : real value was : 0\n",
      "predicted was: 1 : real value was : 1\n",
      "predicted was: 0 : real value was : 0\n",
      "predicted was: 0 : real value was : 0\n",
      "predicted was: 1 : real value was : 1\n",
      "predicted was: 0 : real value was : 1\n",
      "predicted was: 0 : real value was : 1\n",
      "predicted was: 0 : real value was : 1\n",
      "predicted was: 0 : real value was : 0\n"
     ]
    }
   ],
   "source": [
    "#comparing predicted values with real values\n",
    "for item in zip(predictions,target_test):\n",
    "    print(f'predicted was: {item[0]} : real value was : {item[1]}')"
   ]
  },
  {
   "cell_type": "code",
   "execution_count": 109,
   "metadata": {},
   "outputs": [
    {
     "name": "stdout",
     "output_type": "stream",
     "text": [
      "Number of correct predictions: = 204\n",
      "Number of wrong predictions: = 63\n"
     ]
    }
   ],
   "source": [
    "correct = 0\n",
    "wrong = 0\n",
    "for item in zip(predictions,target_test):\n",
    "    if item[0] == item[1]:\n",
    "        correct +=1\n",
    "    else:\n",
    "        wrong +=1\n",
    "        \n",
    "print(f'Number of correct predictions: = {correct}')\n",
    "print(f'Number of wrong predictions: = {wrong}')"
   ]
  },
  {
   "cell_type": "code",
   "execution_count": 112,
   "metadata": {},
   "outputs": [
    {
     "data": {
      "text/plain": [
       "0.7640449438202247"
      ]
     },
     "execution_count": 112,
     "metadata": {},
     "output_type": "execute_result"
    }
   ],
   "source": [
    "#calculating the score manually\n",
    "correct/(correct + wrong)"
   ]
  },
  {
   "cell_type": "code",
   "execution_count": 114,
   "metadata": {},
   "outputs": [
    {
     "data": {
      "text/plain": [
       "0.7640449438202247"
      ]
     },
     "execution_count": 114,
     "metadata": {},
     "output_type": "execute_result"
    }
   ],
   "source": [
    "# calculate model performance with the in-built function\n",
    "accuracy = model.score(features_test,target_test)\n",
    "accuracy"
   ]
  },
  {
   "cell_type": "code",
   "execution_count": 115,
   "metadata": {},
   "outputs": [
    {
     "ename": "NameError",
     "evalue": "name 'yam' is not defined",
     "output_type": "error",
     "traceback": [
      "\u001b[0;31m---------------------------------------------------------------------------\u001b[0m",
      "\u001b[0;31mNameError\u001b[0m                                 Traceback (most recent call last)",
      "\u001b[0;32m<ipython-input-115-b01a82320867>\u001b[0m in \u001b[0;36m<module>\u001b[0;34m()\u001b[0m\n\u001b[0;32m----> 1\u001b[0;31m \u001b[0myam\u001b[0m\u001b[1;33m\u001b[0m\u001b[0m\n\u001b[0m",
      "\u001b[0;31mNameError\u001b[0m: name 'yam' is not defined"
     ]
    }
   ],
   "source": []
  },
  {
   "cell_type": "code",
   "execution_count": null,
   "metadata": {
    "collapsed": true
   },
   "outputs": [],
   "source": []
  }
 ],
 "metadata": {
  "kernelspec": {
   "display_name": "Python 3",
   "language": "python",
   "name": "python3"
  },
  "language_info": {
   "codemirror_mode": {
    "name": "ipython",
    "version": 3
   },
   "file_extension": ".py",
   "mimetype": "text/x-python",
   "name": "python",
   "nbconvert_exporter": "python",
   "pygments_lexer": "ipython3",
   "version": "3.7.3"
  }
 },
 "nbformat": 4,
 "nbformat_minor": 2
}
